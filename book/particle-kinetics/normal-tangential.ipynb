{
 "cells": [
  {
   "cell_type": "markdown",
   "id": "c6a0f24f",
   "metadata": {},
   "source": [
    "# Normal and tangential coordinates"
   ]
  },
  {
   "cell_type": "markdown",
   "id": "35a478f7",
   "metadata": {},
   "source": [
    "In the normal and tangential coordinate system, the (vector) equation of motion\n",
    "\n",
    "$$\n",
    "\\sum \\mathbf{F} = m \\mathbf{a}\n",
    "$$\n",
    "\n",
    "decomposes into the three scalar equations for the tangential ($t$), \n",
    "normal ($n$), and binormal ($b$) directons:\n",
    "\n",
    "$$\n",
    "\\begin{align}\n",
    "\\sum F_t &= m a_t = m \\dot{v} = m \\ddot{s} \\\\\n",
    "\\sum F_n &= m a_n = m \\frac{v^2}{\\rho} \\\\\n",
    "\\sum F_b &= m a_b = 0 \\;,\n",
    "\\end{align} \n",
    "$$\n",
    "\n",
    "where $F_i$ is a force in the $i$ direction, $m$ is the particle mass,\n",
    "$v$ is the velocity, and $\\rho$ is the radius of curvature.\n",
    "\n",
    "The tangential acceleration $a_t$ is positive or negative in the direction of motion,\n",
    "the normal acceleration $a_n$ is **always** positive in the normal direction,\n",
    "and the binormal acceleration $a_b$ is **always** zero, because motion lies in the plane\n",
    "formed by the normal and tangential directions."
   ]
  },
  {
   "cell_type": "markdown",
   "id": "34be1959",
   "metadata": {},
   "source": [
    "## Example: race car at banking angle (no friction)\n",
    "\n",
    "A Formula 1 race car of mass $m$ = 740 kg is traveling on a track at \n",
    "constant velocity $v$ = 60 m/s, where the radius of curvature is $\\rho$ = 400 m.\n",
    "What is the banking angle $\\theta$ necessary for the car to avoid sliding as it\n",
    "goes around this curve?\n",
    "\n",
    "First, let's draw a free-body diagram for the car:\n",
    "\n",
    "\n",
    "Now, write the three scalar equations of motion for the car. \n",
    "The equation in the tangential direction does not really tell us much,\n",
    "since the car is moving at a constant speed in its direction of motion:\n",
    "\n",
    "$$\n",
    "\\sum F_t = m a_t = m \\dot{v} = 0 \\;.\n",
    "$$\n",
    "\n",
    "In the normal direction, the only force is the normal component of the resultant force:\n",
    "\n",
    "$$\n",
    "\\begin{align}\n",
    "\\sum F_n &= m a_n \\\\\n",
    "N_C \\sin \\theta &= m \\frac{v^2}{\\rho}\n",
    "\\end{align}\n",
    "$$\n",
    "\n",
    "and in the binormal direction, we have both the component of the resultant force and also the car's weight, but the binormal acceleration is zero:\n",
    "\n",
    "$$\n",
    "\\begin{align}\n",
    "\\sum F_b &= m a_b = 0 \\\\\n",
    "N_C \\cos \\theta - m g &= 0 \\\\\n",
    "\\rightarrow N_C \\cos \\theta &= m g\n",
    "\\end{align} \n",
    "$$\n",
    "\n",
    "If we divide the latter equation from the former, we can solve for the banking angle:\n",
    "\n",
    "$$\n",
    "\\begin{align}\n",
    "\\frac{N_C \\sin \\theta}{N_C \\cos \\theta} &= \\frac{m v^2 / \\rho}{mg} \\\\\n",
    "\\tan \\theta &= \\frac{v^2}{\\rho g} \\\\\n",
    "\\therefore \\theta &= \\tan^{-1} \\left(\\frac{v^2}{\\rho g} \\right)\n",
    "\\end{align}\n",
    "$$\n",
    "\n",
    "For the parameters given:"
   ]
  },
  {
   "cell_type": "code",
   "execution_count": 2,
   "id": "9dd2ce2f",
   "metadata": {},
   "outputs": [
    {
     "name": "stdout",
     "output_type": "stream",
     "text": [
      "theta = 42.53°\n"
     ]
    }
   ],
   "source": [
    "import numpy as np\n",
    "\n",
    "mass = 740 # kg\n",
    "velocity = 60 # m/s\n",
    "rho = 400 # m\n",
    "g = 9.81 # m/s^2\n",
    "\n",
    "theta = np.arctan(velocity**2 / (rho * g))\n",
    "print(f'theta ={theta * 180/np.pi: .2f}°')"
   ]
  },
  {
   "cell_type": "markdown",
   "id": "1743818c",
   "metadata": {},
   "source": [
    "## Example: race car at banking angle (with friction)\n",
    "\n",
    "Now, consider the same situation, but account for the effect of friction,\n",
    "which will counter the car's motion in the outward direction. \n",
    "What is the new banking angle needed to avoid the car sliding in this case?\n",
    "Assume the coefficient of static friction is $\\mu_s = 0.2$."
   ]
  },
  {
   "cell_type": "code",
   "execution_count": 3,
   "id": "de8f29b4",
   "metadata": {},
   "outputs": [],
   "source": [
    "mu = 0.2"
   ]
  },
  {
   "cell_type": "markdown",
   "id": "96641343",
   "metadata": {},
   "source": [
    "In this case, we now have to account for components of the friction force in the normal and binormal directions, where the friction force is\n",
    "\n",
    "$$\n",
    "f = \\mu_s N_C \\;.\n",
    "$$"
   ]
  },
  {
   "cell_type": "markdown",
   "id": "83e702c2",
   "metadata": {},
   "source": [
    "In the normal direction, we have\n",
    "\n",
    "$$\n",
    "\\begin{align}\n",
    "\\sum F_n &= m a_n \\\\\n",
    "N_C \\sin \\theta + f \\cos \\theta &= m \\frac{v^2}{\\rho}\n",
    "\\end{align}\n",
    "$$\n",
    "\n",
    "and in the binormal direction\n",
    "\n",
    "$$\n",
    "\\begin{align}\n",
    "\\sum F_b &= m a_b = 0 \\\\\n",
    "N_C \\cos \\theta - f \\sin \\theta - m g &= 0 \\\\\n",
    "\\rightarrow N_C \\cos \\theta - f \\sin \\theta &= m g\n",
    "\\end{align} \n",
    "$$\n",
    "\n",
    "Combining the two equations (again, by dividing the first by the second) and recalling that $f = \\mu_s N_c$:\n",
    "\n",
    "$$\n",
    "\\begin{align}\n",
    "\\frac{N_C \\sin \\theta + f \\cos \\theta}{N_C \\cos \\theta - f \\sin \\theta} &= \\frac{m v^2 / \\rho}{m g} \\\\\n",
    "\\frac{\\sin \\theta + \\mu_s \\cos \\theta}{\\cos \\theta - \\mu_s \\sin \\theta} &= \\frac{v^2}{\\rho g} \\;.\n",
    "\\end{align}\n",
    "$$\n",
    "\n",
    "This is our equation to find the banking angle, but unfortunately it has no closed-form solution. So, how do we find $\\theta$? Using a numerical method!"
   ]
  },
  {
   "cell_type": "markdown",
   "id": "49b5447f",
   "metadata": {},
   "source": [
    "### Method 1: manual iteration\n",
    "\n",
    "We could first attack this problem by manually guessing and checking different values of $\\theta$, until the left-hand side of the equation equals the right-hand side.\n",
    "For example, trying different values from 20° to 40°:"
   ]
  },
  {
   "cell_type": "code",
   "execution_count": 10,
   "id": "5ef49ae7",
   "metadata": {},
   "outputs": [
    {
     "name": "stdout",
     "output_type": "stream",
     "text": [
      "Theta   LHS    RHS\n",
      " 20.0°  0.608  0.917\n",
      " 22.0°  0.657  0.917\n",
      " 24.0°  0.708  0.917\n",
      " 26.0°  0.762  0.917\n",
      " 28.0°  0.819  0.917\n",
      " 30.0°  0.879  0.917\n",
      " 32.0°  0.943  0.917\n",
      " 34.0°  1.011  0.917\n",
      " 36.0°  1.084  0.917\n",
      " 38.0°  1.163  0.917\n",
      " 40.0°  1.249  0.917\n"
     ]
    }
   ],
   "source": [
    "# need to convert to radians\n",
    "vals = np.arange(20, 41, 2) * np.pi / 180\n",
    "\n",
    "print('Theta   LHS    RHS')\n",
    "for theta in vals:\n",
    "    lhs = (np.sin(theta) + mu*np.cos(theta)) / (np.cos(theta) - mu*np.sin(theta))\n",
    "    rhs = velocity**2 / (rho*g)\n",
    "    print(f'{theta*180/np.pi: 4.1f}° {lhs: 5.3f} {rhs: 5.3f}')"
   ]
  },
  {
   "cell_type": "markdown",
   "id": "4a5d14a9",
   "metadata": {},
   "source": [
    "So, clearly the correct value is between 30° and 32°. A bit more manual iteration shows that the correct angle is just about 31.2°:"
   ]
  },
  {
   "cell_type": "code",
   "execution_count": 12,
   "id": "4bfb9ce1",
   "metadata": {},
   "outputs": [
    {
     "name": "stdout",
     "output_type": "stream",
     "text": [
      "0.9166501382856722 0.9174311926605505\n"
     ]
    }
   ],
   "source": [
    "theta = 31.2 * np.pi / 180\n",
    "\n",
    "lhs = (np.sin(theta) + mu*np.cos(theta)) / (np.cos(theta) - mu*np.sin(theta))\n",
    "rhs = velocity**2 / (rho*g)\n",
    "print(lhs, rhs)"
   ]
  },
  {
   "cell_type": "markdown",
   "id": "48f4e8f5",
   "metadata": {},
   "source": [
    "### Method 2: `root_scalar`\n",
    "\n",
    "Manually solving like this would be quite tedious; fortunately, there are numerical methods for solving scalar equations like this. We refer to this at **root finding**, since to solve we\n",
    "formulate the equation like $F(x) = 0$, and find the value of the unknown variable that makes the function zero (i.e., the root).\n",
    "\n",
    "In this case, we make the equation into the form\n",
    "\n",
    "$$\n",
    "F(\\theta) = \\frac{\\sin \\theta + \\mu_s \\cos \\theta}{\\cos \\theta - \\mu_s \\sin \\theta} - \\frac{v^2}{\\rho g} = 0 \\;,\n",
    "$$\n",
    "\n",
    "Then, to solve, we can use the `root_scalar` function provided in the `scipy.optimize` module,\n",
    "which needs us to provide it with a function that returns $F(\\theta)$ for candidate values of $\\theta$ (with the goal of finding the one that makes $F(\\theta)=0$), along with a few guess values:"
   ]
  },
  {
   "cell_type": "code",
   "execution_count": 13,
   "id": "68445fec",
   "metadata": {},
   "outputs": [
    {
     "name": "stdout",
     "output_type": "stream",
     "text": [
      "theta = 31.22°\n"
     ]
    }
   ],
   "source": [
    "from scipy.optimize import root_scalar\n",
    "\n",
    "def f(theta):\n",
    "    '''This function evaluates the equation for finding theta.\n",
    "    '''\n",
    "    return (\n",
    "        (np.sin(theta) + mu*np.cos(theta)) / (np.cos(theta) - mu*np.sin(theta)) -\n",
    "        velocity**2 / (rho*g)\n",
    "        )\n",
    "\n",
    "sol = root_scalar(f, x0=(20*np.pi/180), x1=(40*np.pi/180))\n",
    "print(f'theta ={sol.root * 180/np.pi: .2f}°')"
   ]
  },
  {
   "cell_type": "code",
   "execution_count": null,
   "id": "ca5fdab7",
   "metadata": {},
   "outputs": [],
   "source": []
  }
 ],
 "metadata": {
  "kernelspec": {
   "display_name": "Python 3",
   "language": "python",
   "name": "python3"
  },
  "language_info": {
   "codemirror_mode": {
    "name": "ipython",
    "version": 3
   },
   "file_extension": ".py",
   "mimetype": "text/x-python",
   "name": "python",
   "nbconvert_exporter": "python",
   "pygments_lexer": "ipython3",
   "version": "3.8.5"
  }
 },
 "nbformat": 4,
 "nbformat_minor": 5
}
