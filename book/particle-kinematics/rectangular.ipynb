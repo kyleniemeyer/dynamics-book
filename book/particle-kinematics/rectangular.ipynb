{
 "cells": [
  {
   "cell_type": "markdown",
   "id": "0604252e",
   "metadata": {},
   "source": [
    "# Rectangular coordinates"
   ]
  },
  {
   "cell_type": "code",
   "execution_count": null,
   "id": "ed65eeaa",
   "metadata": {},
   "outputs": [],
   "source": []
  }
 ],
 "metadata": {
  "kernelspec": {
   "display_name": "Python 3",
   "language": "python",
   "name": "python3"
  },
  "language_info": {
   "codemirror_mode": {
    "name": "ipython",
    "version": 3
   },
   "file_extension": ".py",
   "mimetype": "text/x-python",
   "name": "python",
   "nbconvert_exporter": "python",
   "pygments_lexer": "ipython3",
   "version": "3.8.5"
  }
 },
 "nbformat": 4,
 "nbformat_minor": 5
}
