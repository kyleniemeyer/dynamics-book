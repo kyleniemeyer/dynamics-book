{
 "cells": [
  {
   "cell_type": "markdown",
   "id": "c2266196",
   "metadata": {},
   "source": [
    "# Equation of Motion"
   ]
  },
  {
   "cell_type": "code",
   "execution_count": null,
   "id": "7b1bc522",
   "metadata": {},
   "outputs": [],
   "source": []
  }
 ],
 "metadata": {
  "kernelspec": {
   "display_name": "Python 3",
   "language": "python",
   "name": "python3"
  },
  "language_info": {
   "codemirror_mode": {
    "name": "ipython",
    "version": 3
   },
   "file_extension": ".py",
   "mimetype": "text/x-python",
   "name": "python",
   "nbconvert_exporter": "python",
   "pygments_lexer": "ipython3",
   "version": "3.8.5"
  }
 },
 "nbformat": 4,
 "nbformat_minor": 5
}
